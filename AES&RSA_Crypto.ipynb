{
  "nbformat": 4,
  "nbformat_minor": 0,
  "metadata": {
    "colab": {
      "provenance": [],
      "include_colab_link": true
    },
    "kernelspec": {
      "name": "python3",
      "display_name": "Python 3"
    },
    "language_info": {
      "name": "python"
    }
  },
  "cells": [
    {
      "cell_type": "markdown",
      "metadata": {
        "id": "view-in-github",
        "colab_type": "text"
      },
      "source": [
        "<a href=\"https://colab.research.google.com/github/satoicu/aes-rsa-crypt/blob/main/AES%26RSA_Crypto.ipynb\" target=\"_parent\"><img src=\"https://colab.research.google.com/assets/colab-badge.svg\" alt=\"Open In Colab\"/></a>"
      ]
    },
    {
      "cell_type": "markdown",
      "source": [
        "RSA/AESを使うためpycryptodomeをインストールします"
      ],
      "metadata": {
        "id": "rN5ICio_kQ81"
      }
    },
    {
      "cell_type": "code",
      "source": [
        "!pip install pycryptodome"
      ],
      "metadata": {
        "colab": {
          "base_uri": "https://localhost:8080/"
        },
        "id": "EEAU3uNnWYc5",
        "outputId": "a4749140-dcf7-4a6a-ad5f-672552ce6df4"
      },
      "execution_count": 2,
      "outputs": [
        {
          "metadata": {
            "tags": null
          },
          "name": "stdout",
          "output_type": "stream",
          "text": [
            "Requirement already satisfied: pycryptodome in /usr/local/lib/python3.10/dist-packages (3.18.0)\n"
          ]
        }
      ]
    },
    {
      "cell_type": "markdown",
      "source": [
        "これから仮のパスワードをAESを用いて暗号化、AES複合化に必要な情報をRSA暗号化します。\n",
        "\n",
        "この処理によりRSA複合化するための公開鍵を持ったユーザーだけがAES複合化に必要な情報にアクセスできます。\n",
        "\n",
        "まず初めに秘密鍵、公開鍵を作成します。"
      ],
      "metadata": {
        "id": "gJe36SJWlqTh"
      }
    },
    {
      "cell_type": "code",
      "source": [
        "!ssh-keygen"
      ],
      "metadata": {
        "colab": {
          "base_uri": "https://localhost:8080/"
        },
        "id": "pntiViaU8sfx",
        "outputId": "e2a3e3e4-4630-4700-f8be-a41b0848bad5"
      },
      "execution_count": 3,
      "outputs": [
        {
          "output_type": "stream",
          "name": "stdout",
          "text": [
            "Generating public/private rsa key pair.\n",
            "Enter file in which to save the key (/root/.ssh/id_rsa): \n",
            "Created directory '/root/.ssh'.\n",
            "Enter passphrase (empty for no passphrase): \n",
            "Enter same passphrase again: \n",
            "Your identification has been saved in /root/.ssh/id_rsa\n",
            "Your public key has been saved in /root/.ssh/id_rsa.pub\n",
            "The key fingerprint is:\n",
            "SHA256:uFgDlLikDVJGsa4dFslyA6KvRrbZBwhmWfoOhCHSRA8 root@d67a97a7d9a6\n",
            "The key's randomart image is:\n",
            "+---[RSA 3072]----+\n",
            "|**E+..           |\n",
            "|O=B*.            |\n",
            "|*@B.o            |\n",
            "|*==o . .         |\n",
            "| ==o  + S        |\n",
            "|o=*..o o         |\n",
            "|o+.o...          |\n",
            "|.   .            |\n",
            "|                 |\n",
            "+----[SHA256]-----+\n"
          ]
        }
      ]
    },
    {
      "cell_type": "markdown",
      "source": [
        "秘密鍵（id_rsa）、公開鍵（id_rsa_pub）を作成しました。\n",
        "\n",
        "パスフレーズは省略します。\n",
        "\n",
        "パスフレーズを省略しない場合鍵情報の利用時に毎回パスフレーズの入力が必要になります。\n",
        "\n",
        "サーバーやプログラムでの処理には向きません。"
      ],
      "metadata": {
        "id": "L3Bc3TwXmSWk"
      }
    },
    {
      "cell_type": "code",
      "source": [
        "!cp /root/.ssh/id_rsa id_rsa\n",
        "!cp /root/.ssh/id_rsa.pub id_rsa.pub\n",
        "!ls"
      ],
      "metadata": {
        "colab": {
          "base_uri": "https://localhost:8080/"
        },
        "id": "82S8k_2RryHU",
        "outputId": "5a5ca0f3-a12b-4eff-fed2-58d5731aa332"
      },
      "execution_count": 6,
      "outputs": [
        {
          "output_type": "stream",
          "name": "stdout",
          "text": [
            "id_rsa\tid_rsa.pub  sample_data\n"
          ]
        }
      ]
    },
    {
      "cell_type": "markdown",
      "source": [
        "仮に暗号化したい文字列を「password」とします。"
      ],
      "metadata": {
        "id": "8r0fve8YnGSX"
      }
    },
    {
      "cell_type": "code",
      "source": [
        "plaintext = \"password\""
      ],
      "metadata": {
        "id": "43iDQ95Om-0y"
      },
      "execution_count": 8,
      "outputs": []
    },
    {
      "cell_type": "markdown",
      "source": [
        "「password」をAES暗号化します。"
      ],
      "metadata": {
        "id": "HVbkqsPSoGyx"
      }
    },
    {
      "cell_type": "code",
      "source": [
        "from Crypto.Cipher import AES\n",
        "from Crypto.Random import get_random_bytes\n",
        "\n",
        "data = plaintext.encode('utf-8')\n",
        "\n",
        "# 鍵の生成\n",
        "key = get_random_bytes(32)\n",
        "\n",
        "# AES暗号化\n",
        "cipher = AES.new(key, AES.MODE_EAX)\n",
        "ciphertext, tag = cipher.encrypt_and_digest(data)\n",
        "iv = cipher.nonce\n",
        "\n",
        "ciphertext, key, tag, iv"
      ],
      "metadata": {
        "id": "KVYrfFMsnNN0",
        "outputId": "fbc21273-3964-4bff-cf32-6d9333944b8a",
        "colab": {
          "base_uri": "https://localhost:8080/"
        }
      },
      "execution_count": 18,
      "outputs": [
        {
          "output_type": "execute_result",
          "data": {
            "text/plain": [
              "(b\"\\xd0\\x90ZQ\\x86'\\xed\\x96\",\n",
              " b'\\x1a\\xdc%N\\xe2\\xd9\\xcb\\x9az8\\x87\\x08\\x8dj\\xa1D\\xc5\\xfc\\x82l\\xed\\xb5\\xec\\xf3$\\xa1\\x9c\\x8e\\x0co/s',\n",
              " b'4\\xdee\\x13\\xef`\\xde\\xc8wq\\x8d\\x0f;\\x98Cp',\n",
              " b'\\xd4\\x83\\x81\\x13-k\\xf8\\xde\\xd1\\x9e\\x82\\xcaJ\\xd8\\xf6\\xec')"
            ]
          },
          "metadata": {},
          "execution_count": 18
        }
      ]
    },
    {
      "cell_type": "markdown",
      "source": [
        "このままではAESで暗号化したkey, tag, ivはそのままであり容易に複合化できます。\n",
        "\n",
        "そのためkey, tag, ivをさらにRSA暗号化します。"
      ],
      "metadata": {
        "id": "eIbQri-LoXnh"
      }
    },
    {
      "cell_type": "code",
      "source": [
        "from Crypto.Cipher import PKCS1_OAEP\n",
        "from Crypto.PublicKey import RSA\n",
        "\n",
        "#  keyinfoとtag, iv, keyの結合\n",
        "keyinfo = key + b'@' + tag + b'@' + iv\n",
        "\n",
        "# RSA暗号化のため公開鍵の読み込み\n",
        "with open(\"id_rsa.pub\", \"rb\") as f:\n",
        "    public_key = RSA.import_key(f.read())\n",
        "\n",
        "# 暗号化\n",
        "rsa = PKCS1_OAEP.new(public_key)\n",
        "cipher_keyinfo = rsa.encrypt(keyinfo)\n",
        "\n",
        "cipher_keyinfo"
      ],
      "metadata": {
        "id": "On_tI93Rneux",
        "outputId": "df951205-6e9c-45e3-ff80-a121b3fa774c",
        "colab": {
          "base_uri": "https://localhost:8080/"
        }
      },
      "execution_count": 19,
      "outputs": [
        {
          "output_type": "execute_result",
          "data": {
            "text/plain": [
              "b'\\x18\\xd0\\x81\\x15\\x00\\x94\\xa5\\x1e\\xbe\\xea(b\\xe6\\x8dlw\\xab\\xbdj\\xc1\\xc7,\\x9a\\x14\\x06\\xbd\\x02O9\\n\\x0f\\xf8\\xb5>@\\xed\\xfe\\xb4_\\x0f\\x93\\x1e{\\xfeF[\\x10\\xd8t\\x02{]\\x84\\xe1\\xdd\\xaalu\\xf7\\x92\\xe1\\xfez\\x87\\x1b\\xbc\\xb2\\xb3ht\\x19\\x98\\xf5\\xee6\\xe3E(\\\\\\xbd\\xa3Mh\\x0f\\xc3\\xb0\\xb4z\\xe1\\x91:Z>\\xcd\\x88na\\xe7\\xd2?!P\\xb4\\xa3\\x083\\x16\\xdd\\xca\\xd8\\xbf>\\x99\\xc5\\xa8\\xf3?j\\xe9\\x90v\\xd4h\\'\\x82\\xfc\\x19\\x01\\x8f\\x8f\\xa8\\xa5\\xb8H\\xe1!\\xeeP9\\x1f\\x90\\x96\\xc1I\\xfaM\"\\xad!p\\x1dF\\xf0@\\xbe\\x92\\x80\\xba\\x1a]I\\xd3\\xec\\xdd\\x0b\\x14\\xa9\\x8c\\xb2\\x86S\\xbd\\x0e\\xae\\rnw\\xfd\\xfbi>\\\\A\\x97\\xd4#\\x97\\xf6\\xed|\\x99 \\r\\x07\\' l\\xe9\\x16\\xe4\\x03\\x8b>\\xdb\\x9d+\\xa1[`\\x0c\\xca\\xee\\xf3\\x15\\xb7\\x9c\\x9a(\\xc5_\\xd9\\xf4\\\\\\xfcL\\xa38X\\x18e\\x19U\\\\\\x93\\xfbB\\xd9\\xd6\\xd4\\xbd0\\xd4\\xb2\\x99\\xb7\\x84\\xa2,g\\x91\\\\A\\xda_\\xa1\\xfe\\x80\\x91$!\\xbel\\x86\\xe4\\x81\\xcdS\\xa6\\x0cb&E\\x9c\\x88\\xfcO\\x12e\\xfe\\x8d\\xc3\\x03\"\\xdeu>\\x1ds2\\x02\\xd7\\xf1\\xa2\\x02\\xd0\\xfa#\\x94\\x81\\xe58\\x17\\xbd{\\xd2\\xfe\\xae:jN\\xf9\\xdf\\\\:\\xec\\x17\\xad%_~^\\xef<\\xf4\\xe9:5\\xb26*\\xcc\\xf9\\x80\\xa2\\x92r\\x91r^4gw\\xd6\\x15\\x115B/,\\xaa\\x98\\xbc\\x17\\xa6\\xd9*\\xb5/R\\x8b\\xc1\\xf1\\xb1\\xa9\\x87\\x12\\xa6\\x7fPL\\xce7\\xf3,K\\xb2\\xcc9Ch\\x8e2\\xf5u'"
            ]
          },
          "metadata": {},
          "execution_count": 19
        }
      ]
    },
    {
      "cell_type": "markdown",
      "source": [
        "key, tag, ivをkeyinfoというバイト文字列にまとめRSA暗号化しました。\n",
        "\n",
        "複合には対応する秘密鍵が必要になります。\n",
        "\n",
        "暗号化されたcipher_keyinfoは元のkeyinfoとは異なるものであることが確認できます。"
      ],
      "metadata": {
        "id": "quo4tlk1pGvC"
      }
    },
    {
      "cell_type": "code",
      "source": [
        "# 暗号化されたため元の鍵情報とは異なりFalseが返されます。\n",
        "cipher_keyinfo == keyinfo"
      ],
      "metadata": {
        "id": "AzQdufGbpGCS",
        "outputId": "2b1b93aa-efca-44e5-a3f1-f9f3301b4409",
        "colab": {
          "base_uri": "https://localhost:8080/"
        }
      },
      "execution_count": 20,
      "outputs": [
        {
          "output_type": "execute_result",
          "data": {
            "text/plain": [
              "False"
            ]
          },
          "metadata": {},
          "execution_count": 20
        }
      ]
    },
    {
      "cell_type": "markdown",
      "source": [
        "元々のパスワード、keyinfoを全て削除します。これにより複合を行わないと元のパスワードはわからなくなります。"
      ],
      "metadata": {
        "id": "VfIifEHppzt6"
      }
    },
    {
      "cell_type": "code",
      "source": [
        "del plaintext, key, tag, iv, keyinfo"
      ],
      "metadata": {
        "id": "FQWevpDNpr0H"
      },
      "execution_count": 22,
      "outputs": []
    },
    {
      "cell_type": "markdown",
      "source": [
        "元のplaintextを知るためにまず秘密鍵を用いてkeyinfoを複合化、その後、keyinfoを用いてplaintextを複合化します。\n",
        "\n",
        "まず、秘密鍵を読み込みkeyinfoを複合化します。"
      ],
      "metadata": {
        "id": "wNf_2fgcqL1x"
      }
    },
    {
      "cell_type": "code",
      "source": [
        "from Crypto.Cipher import AES, PKCS1_OAEP\n",
        "from Crypto.PublicKey import RSA\n",
        "\n",
        "with open(\"id_rsa\", \"rb\") as f:\n",
        "  private_key = RSA.import_key(f.read())\n",
        "\n",
        "# RSA復号化\n",
        "decipher_rsa = PKCS1_OAEP.new(private_key)\n",
        "keyinfo = decipher_rsa.decrypt(cipher_keyinfo)\n",
        "\n",
        "# key, tag, ivを取り出す\n",
        "key, tag, iv = keyinfo.split(b'@')\n",
        "\n",
        "key, tag, iv"
      ],
      "metadata": {
        "id": "_HGQkXcqqK5X",
        "outputId": "dc6b6775-592a-42ac-a925-00a0255b2558",
        "colab": {
          "base_uri": "https://localhost:8080/"
        }
      },
      "execution_count": 25,
      "outputs": [
        {
          "output_type": "execute_result",
          "data": {
            "text/plain": [
              "(b'\\x1a\\xdc%N\\xe2\\xd9\\xcb\\x9az8\\x87\\x08\\x8dj\\xa1D\\xc5\\xfc\\x82l\\xed\\xb5\\xec\\xf3$\\xa1\\x9c\\x8e\\x0co/s',\n",
              " b'4\\xdee\\x13\\xef`\\xde\\xc8wq\\x8d\\x0f;\\x98Cp',\n",
              " b'\\xd4\\x83\\x81\\x13-k\\xf8\\xde\\xd1\\x9e\\x82\\xcaJ\\xd8\\xf6\\xec')"
            ]
          },
          "metadata": {},
          "execution_count": 25
        }
      ]
    },
    {
      "cell_type": "markdown",
      "source": [
        "取り出した鍵情報を元にplaintextをAES複合化します。\n",
        "\n"
      ],
      "metadata": {
        "id": "g0Sq77GqrjZ-"
      }
    },
    {
      "cell_type": "code",
      "source": [
        "# AES復号化\n",
        "decipher_aes = AES.new(key, AES.MODE_EAX, iv)\n",
        "decrypted_text = decipher_aes.decrypt_and_verify(ciphertext, tag)\n",
        "\n",
        "# 複合化されたテキストの表示\n",
        "plaintext = decrypted_text.decode(\"utf-8\")\n",
        "plaintext"
      ],
      "metadata": {
        "id": "pzhf4FXpris8",
        "outputId": "33a9ad62-9cd9-4749-bc8a-23eb1385b3f4",
        "colab": {
          "base_uri": "https://localhost:8080/",
          "height": 35
        }
      },
      "execution_count": 26,
      "outputs": [
        {
          "output_type": "execute_result",
          "data": {
            "text/plain": [
              "'password'"
            ],
            "application/vnd.google.colaboratory.intrinsic+json": {
              "type": "string"
            }
          },
          "metadata": {},
          "execution_count": 26
        }
      ]
    },
    {
      "cell_type": "code",
      "source": [
        "# 暗号化・複合化処理を関数化\n",
        "def encrypt(plaintext, pub_key=\"id_rsa.pub\"):\n",
        "  from Crypto.Cipher import PKCS1_OAEP\n",
        "  from Crypto.PublicKey import RSA\n",
        "  from Crypto.Cipher import AES\n",
        "  from Crypto.Random import get_random_bytes\n",
        "\n",
        "  data = plaintext.encode('utf-8')\n",
        "\n",
        "  # 鍵の生成\n",
        "  key = get_random_bytes(32)\n",
        "\n",
        "  # AES暗号化\n",
        "  cipher = AES.new(key, AES.MODE_EAX)\n",
        "  ciphertext, tag = cipher.encrypt_and_digest(data)\n",
        "  iv = cipher.nonce\n",
        "\n",
        "  #  keyinfoとtag, iv, keyの結合\n",
        "  keyinfo = key + b'@' + tag + b'@' + iv\n",
        "\n",
        "  # RSA暗号化のため公開鍵の読み込み\n",
        "  with open(pub_key, \"rb\") as f:\n",
        "      public_key = RSA.import_key(f.read())\n",
        "\n",
        "  # 暗号化\n",
        "  rsa = PKCS1_OAEP.new(public_key)\n",
        "  cipherkeyinfo = rsa.encrypt(keyinfo)\n",
        "\n",
        "  return ciphertext, cipherkeyinfo\n",
        "\n",
        "def decrypt(ciphertext, cipherkeyinfo, sec_key=\"id_rsa\"):\n",
        "  from Crypto.Cipher import AES, PKCS1_OAEP\n",
        "  from Crypto.PublicKey import RSA\n",
        "\n",
        "  with open(sec_key, \"rb\") as f:\n",
        "    private_key = RSA.import_key(f.read())\n",
        "\n",
        "  # RSA復号化\n",
        "  decipher_rsa = PKCS1_OAEP.new(private_key)\n",
        "  keyinfo = decipher_rsa.decrypt(cipherkeyinfo)\n",
        "\n",
        "  # key, tag, ivを取り出す\n",
        "  key, tag, iv = keyinfo.split(b'@')\n",
        "\n",
        "  # AES復号化\n",
        "  decipher_aes = AES.new(key, AES.MODE_EAX, iv)\n",
        "  decrypted_text = decipher_aes.decrypt_and_verify(ciphertext, tag)\n",
        "\n",
        "  # 複合化されたテキストの表示\n",
        "  plaintext = decrypted_text.decode(\"utf-8\")\n",
        "\n",
        "  return plaintext"
      ],
      "metadata": {
        "id": "DWp3H98BtqSp"
      },
      "execution_count": 33,
      "outputs": []
    },
    {
      "cell_type": "code",
      "source": [
        "plaintext = \"another password\"\n",
        "ciphertext, cipherkeyinfo = encrypt(plaintext)\n",
        "decrypt(ciphertext, cipherkeyinfo)"
      ],
      "metadata": {
        "id": "GSgLUU5ktujg",
        "outputId": "250747b4-5e82-422d-aa23-3ba350db2e72",
        "colab": {
          "base_uri": "https://localhost:8080/",
          "height": 35
        }
      },
      "execution_count": 39,
      "outputs": [
        {
          "output_type": "execute_result",
          "data": {
            "text/plain": [
              "'another password'"
            ],
            "application/vnd.google.colaboratory.intrinsic+json": {
              "type": "string"
            }
          },
          "metadata": {},
          "execution_count": 39
        }
      ]
    },
    {
      "cell_type": "markdown",
      "source": [
        "以上でAES、RSAを用いて特定の秘密鍵、公開鍵をやりとりした人にのみ暗号化した情報を伝えることができます。\n",
        "\n",
        "次にプログラムで扱いやすくするためにバイト文字列をbase64を使って単なる文字列として取り扱います。\n",
        "\n",
        "これによりjsonやyamlなどのテキストファイル形式で保存しやすくなります。\n",
        "バイト文字列を単なる文字列に変換するにはbase64でエンコードした後utf-8でデコードします。"
      ],
      "metadata": {
        "id": "SeiPEvovr0Oz"
      }
    },
    {
      "cell_type": "code",
      "source": [
        "import base64\n",
        "\n",
        "plaintext = \"another text\"\n",
        "ciphertext, cipherkeyinfo = encrypt(plaintext)\n",
        "b64ciphertext = base64.b64encode(ciphertext).decode('utf-8')\n",
        "b64cipherkeyinfo = base64.b64encode(cipherkeyinfo).decode('utf-8')\n",
        "print(\"base64 encoded ciphertext=\", b64ciphertext)\n",
        "print(\"base64 encoded cipherkeyinfo=\", b64cipherkeyinfo)"
      ],
      "metadata": {
        "id": "s-g7ITH3saNw",
        "outputId": "bfaddb65-36b2-4d6f-abfb-d7896575609e",
        "colab": {
          "base_uri": "https://localhost:8080/"
        }
      },
      "execution_count": 48,
      "outputs": [
        {
          "output_type": "stream",
          "name": "stdout",
          "text": [
            "base64 encoded ciphertext= CADWqpi70jA0zzmJ\n",
            "base64 encoded cipherkeyinfo= C5O4tK9WnJaqllNBPijwzygZHsx7jiOq47VYUu7oX+XWJt2QmWBh1R2UD/ZG7/llSmmlvT9+HEJ468wGEDM694xr/qBhkHdAA6wYmguEKoG3ar11mOIgzmrWFZCVLhWpPpNLk4bNW66wH9RGzKvps0oTWRfQRotuyii6U0kbikcoucut0YKTQwH93C8I0S2EQdYbhv37zOLuk4sOMfa++8NolM2dvWtWgDpUCR4jir6VIbYSamolaE9woDMRlk0a7QYAG5ZWXOGQRabgVj6odACv+cdCYjjmJ4SwE254Aes37BrDad/aL4h0dW3AldOOou7H3dVF7M8pL2SSy3hncMX9E2yPatY1LPuaXihVtkVWA3ir7wNTfknIaDjH8zKbOkS8q+1QM/Y27ZLe9A7Dv/VMXVoFW/FetIYg9Av5BGKOC1mBEGq0DPmV/g+E98YWN7IPfBNA8xSlStm2uQYFfQutrZ2mXO6ckVtyppEANIqmlcJJ1RTiRSGyhKkSdGhh\n"
          ]
        }
      ]
    },
    {
      "cell_type": "markdown",
      "source": [
        "utf-8のエンコードは文字列をバイト文字列に変換します。\n",
        "\n",
        "utf-8のデコードはバイト文字列を単なる文字列に変換します。\n",
        "\n",
        "basae64はバイト文字列を対応する64進法の英数字に当てはめて変換します。"
      ],
      "metadata": {
        "id": "Nb2JA6thv_ZS"
      }
    },
    {
      "cell_type": "code",
      "source": [
        "b64decode_ciphertext = base64.b64decode(b64ciphertext)\n",
        "b64decode_cipherkeyinfo = base64.b64decode(b64cipherkeyinfo)\n",
        "decrypt(b64decode_ciphertext, b64decode_cipherkeyinfo)"
      ],
      "metadata": {
        "id": "G8kGCJTIv-gB",
        "outputId": "d06ad189-4fb7-41ea-a6d6-4fc2ef1969e6",
        "colab": {
          "base_uri": "https://localhost:8080/",
          "height": 35
        }
      },
      "execution_count": 49,
      "outputs": [
        {
          "output_type": "execute_result",
          "data": {
            "text/plain": [
              "'another text'"
            ],
            "application/vnd.google.colaboratory.intrinsic+json": {
              "type": "string"
            }
          },
          "metadata": {},
          "execution_count": 49
        }
      ]
    },
    {
      "cell_type": "markdown",
      "source": [
        "AESは非常に長い文字列も高速に暗号化できる特徴があります。\n",
        "\n",
        "以下のような複数の情報をまとめたjson形式のファイルも暗号化できます。\n",
        "\n",
        "サンプルはchat-gptを用いて生成した実在しない人物に対するデータの例です。"
      ],
      "metadata": {
        "id": "mJZF3Vf4vuQL"
      }
    },
    {
      "cell_type": "code",
      "source": [
        "sample={\n",
        "  \"name\": \"John Doe\",\n",
        "  \"age\": 30,\n",
        "  \"email\": \"johndoe@example.com\",\n",
        "  \"address\": {\n",
        "    \"street\": \"123 Main St\",\n",
        "    \"city\": \"New York\",\n",
        "    \"state\": \"NY\",\n",
        "    \"zip\": \"10001\"\n",
        "  },\n",
        "  \"phone_numbers\": [\n",
        "    \"+1-555-1234\",\n",
        "    \"+1-555-5678\"\n",
        "  ],\n",
        "  \"friends\": [\n",
        "    {\n",
        "      \"name\": \"Jane Smith\",\n",
        "      \"age\": 28,\n",
        "      \"email\": \"janesmith@example.com\"\n",
        "    },\n",
        "    {\n",
        "      \"name\": \"Robert Johnson\",\n",
        "      \"age\": 32,\n",
        "      \"email\": \"robertjohnson@example.com\"\n",
        "    }\n",
        "  ],\n",
        "  \"hobbies\": [\n",
        "    \"reading\",\n",
        "    \"playing guitar\",\n",
        "    \"hiking\"\n",
        "  ],\n",
        "  \"description\": \"Lorem ipsum dolor sit amet, consectetur adipiscing elit. Vestibulum a quam auctor, faucibus quam in, sollicitudin nisi. Nulla in urna in elit tristique interdum ac at nulla. Proin euismod scelerisque sem vitae feugiat.\"\n",
        "}"
      ],
      "metadata": {
        "id": "ghN835lgakFz"
      },
      "execution_count": 50,
      "outputs": []
    },
    {
      "cell_type": "code",
      "source": [
        "import json\n",
        "message = json.dumps(sample)\n",
        "\n",
        "ciphertext, cipherkeyinfo = encrypt(message)"
      ],
      "metadata": {
        "id": "lEUPtWfbmlvq"
      },
      "execution_count": 54,
      "outputs": []
    },
    {
      "cell_type": "code",
      "source": [
        "decrypted_text = decrypt(ciphertext, cipherkeyinfo)\n",
        "\n",
        "# 結果の表示\n",
        "print(\"暗号化前のテキスト:\", message)\n",
        "print(\"復号化後のテキスト:\", decrypted_text)\n",
        "print(message == decrypted_text)"
      ],
      "metadata": {
        "colab": {
          "base_uri": "https://localhost:8080/"
        },
        "id": "IaDiFoAcnSjC",
        "outputId": "4261b84d-24ed-4696-e956-e8c6e0c1f028"
      },
      "execution_count": 55,
      "outputs": [
        {
          "output_type": "stream",
          "name": "stdout",
          "text": [
            "暗号化前のテキスト: {\"name\": \"John Doe\", \"age\": 30, \"email\": \"johndoe@example.com\", \"address\": {\"street\": \"123 Main St\", \"city\": \"New York\", \"state\": \"NY\", \"zip\": \"10001\"}, \"phone_numbers\": [\"+1-555-1234\", \"+1-555-5678\"], \"friends\": [{\"name\": \"Jane Smith\", \"age\": 28, \"email\": \"janesmith@example.com\"}, {\"name\": \"Robert Johnson\", \"age\": 32, \"email\": \"robertjohnson@example.com\"}], \"hobbies\": [\"reading\", \"playing guitar\", \"hiking\"], \"description\": \"Lorem ipsum dolor sit amet, consectetur adipiscing elit. Vestibulum a quam auctor, faucibus quam in, sollicitudin nisi. Nulla in urna in elit tristique interdum ac at nulla. Proin euismod scelerisque sem vitae feugiat.\"}\n",
            "復号化後のテキスト: {\"name\": \"John Doe\", \"age\": 30, \"email\": \"johndoe@example.com\", \"address\": {\"street\": \"123 Main St\", \"city\": \"New York\", \"state\": \"NY\", \"zip\": \"10001\"}, \"phone_numbers\": [\"+1-555-1234\", \"+1-555-5678\"], \"friends\": [{\"name\": \"Jane Smith\", \"age\": 28, \"email\": \"janesmith@example.com\"}, {\"name\": \"Robert Johnson\", \"age\": 32, \"email\": \"robertjohnson@example.com\"}], \"hobbies\": [\"reading\", \"playing guitar\", \"hiking\"], \"description\": \"Lorem ipsum dolor sit amet, consectetur adipiscing elit. Vestibulum a quam auctor, faucibus quam in, sollicitudin nisi. Nulla in urna in elit tristique interdum ac at nulla. Proin euismod scelerisque sem vitae feugiat.\"}\n",
            "True\n"
          ]
        }
      ]
    },
    {
      "cell_type": "code",
      "source": [],
      "metadata": {
        "id": "OmH2Bv_3xq7R"
      },
      "execution_count": null,
      "outputs": []
    }
  ]
}
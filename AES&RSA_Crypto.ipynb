{
  "nbformat": 4,
  "nbformat_minor": 0,
  "metadata": {
    "colab": {
      "provenance": [],
      "include_colab_link": true
    },
    "kernelspec": {
      "name": "python3",
      "display_name": "Python 3"
    },
    "language_info": {
      "name": "python"
    }
  },
  "cells": [
    {
      "cell_type": "markdown",
      "metadata": {
        "id": "view-in-github",
        "colab_type": "text"
      },
      "source": [
        "<a href=\"https://colab.research.google.com/github/satoicu/aes-rsa-crypt/blob/main/AES%26RSA_Crypto.ipynb\" target=\"_parent\"><img src=\"https://colab.research.google.com/assets/colab-badge.svg\" alt=\"Open In Colab\"/></a>"
      ]
    },
    {
      "cell_type": "code",
      "source": [
        "!pip install pycryptodome"
      ],
      "metadata": {
        "colab": {
          "base_uri": "https://localhost:8080/"
        },
        "id": "EEAU3uNnWYc5",
        "outputId": "be03f9b4-e2e8-4b05-b757-db7d00c43aa1"
      },
      "execution_count": null,
      "outputs": [
        {
          "output_type": "stream",
          "name": "stdout",
          "text": [
            "Collecting pycryptodome\n",
            "  Downloading pycryptodome-3.18.0-cp35-abi3-manylinux_2_17_x86_64.manylinux2014_x86_64.whl (2.1 MB)\n",
            "\u001b[?25l     \u001b[90m━━━━━━━━━━━━━━━━━━━━━━━━━━━━━━━━━━━━━━━━\u001b[0m \u001b[32m0.0/2.1 MB\u001b[0m \u001b[31m?\u001b[0m eta \u001b[36m-:--:--\u001b[0m\r\u001b[2K     \u001b[91m━━━━━\u001b[0m\u001b[90m╺\u001b[0m\u001b[90m━━━━━━━━━━━━━━━━━━━━━━━━━━━━━━━━━━\u001b[0m \u001b[32m0.3/2.1 MB\u001b[0m \u001b[31m8.2 MB/s\u001b[0m eta \u001b[36m0:00:01\u001b[0m\r\u001b[2K     \u001b[91m━━━━━━━━━━━━━━━━━━━━━━━━━━━━━━━━━━━━━━\u001b[0m\u001b[91m╸\u001b[0m\u001b[90m━\u001b[0m \u001b[32m2.0/2.1 MB\u001b[0m \u001b[31m30.0 MB/s\u001b[0m eta \u001b[36m0:00:01\u001b[0m\r\u001b[2K     \u001b[90m━━━━━━━━━━━━━━━━━━━━━━━━━━━━━━━━━━━━━━━━\u001b[0m \u001b[32m2.1/2.1 MB\u001b[0m \u001b[31m22.9 MB/s\u001b[0m eta \u001b[36m0:00:00\u001b[0m\n",
            "\u001b[?25hInstalling collected packages: pycryptodome\n",
            "Successfully installed pycryptodome-3.18.0\n",
            "Collecting pyarmor\n",
            "  Downloading pyarmor-8.2.9-py3-none-any.whl (2.3 MB)\n",
            "\u001b[2K     \u001b[90m━━━━━━━━━━━━━━━━━━━━━━━━━━━━━━━━━━━━━━━━\u001b[0m \u001b[32m2.3/2.3 MB\u001b[0m \u001b[31m25.9 MB/s\u001b[0m eta \u001b[36m0:00:00\u001b[0m\n",
            "\u001b[?25hCollecting pyarmor.cli.core~=3.2.9 (from pyarmor)\n",
            "  Downloading pyarmor.cli.core-3.2.9-cp310-none-manylinux1_x86_64.whl (712 kB)\n",
            "\u001b[2K     \u001b[90m━━━━━━━━━━━━━━━━━━━━━━━━━━━━━━━━━━━━━━\u001b[0m \u001b[32m712.9/712.9 kB\u001b[0m \u001b[31m51.4 MB/s\u001b[0m eta \u001b[36m0:00:00\u001b[0m\n",
            "\u001b[?25hInstalling collected packages: pyarmor.cli.core, pyarmor\n",
            "Successfully installed pyarmor-8.2.9 pyarmor.cli.core-3.2.9\n"
          ]
        }
      ]
    },
    {
      "cell_type": "code",
      "source": [
        "!ssh-keygen"
      ],
      "metadata": {
        "colab": {
          "base_uri": "https://localhost:8080/"
        },
        "id": "pntiViaU8sfx",
        "outputId": "5b9115cf-8443-4917-ad8d-95517b7e1c24"
      },
      "execution_count": null,
      "outputs": [
        {
          "output_type": "stream",
          "name": "stdout",
          "text": [
            "Generating public/private rsa key pair.\n",
            "Enter file in which to save the key (/root/.ssh/id_rsa): \n",
            "Created directory '/root/.ssh'.\n",
            "Enter passphrase (empty for no passphrase): \n",
            "Enter same passphrase again: \n",
            "Your identification has been saved in /root/.ssh/id_rsa\n",
            "Your public key has been saved in /root/.ssh/id_rsa.pub\n",
            "The key fingerprint is:\n",
            "SHA256:IJY5h1tSAmwHL9AreTeRFhBDhi+Bd2ovZ9cjoFug/1Q root@e59273823596\n",
            "The key's randomart image is:\n",
            "+---[RSA 3072]----+\n",
            "|o=O=oo.          |\n",
            "|+o=o**           |\n",
            "| *.*X.+          |\n",
            "|+ Bo+B .         |\n",
            "| * =.oE.S        |\n",
            "|. o =.o o        |\n",
            "| . *.. . .       |\n",
            "|  o.             |\n",
            "|   ..            |\n",
            "+----[SHA256]-----+\n"
          ]
        }
      ]
    },
    {
      "cell_type": "code",
      "source": [
        "!ls /root/.ssh"
      ],
      "metadata": {
        "colab": {
          "base_uri": "https://localhost:8080/"
        },
        "id": "3EOJrcDNr7M0",
        "outputId": "dc7a634f-b128-46ef-d151-f62d7ec13bab"
      },
      "execution_count": null,
      "outputs": [
        {
          "output_type": "stream",
          "name": "stdout",
          "text": [
            "id_rsa\tid_rsa.pub\n"
          ]
        }
      ]
    },
    {
      "cell_type": "code",
      "source": [
        "import json\n",
        "from Crypto.Cipher import AES\n",
        "from Crypto.Random import get_random_bytes\n",
        "from base64 import b64encode, b64decode\n",
        "from Crypto.Cipher import PKCS1_OAEP\n",
        "from Crypto.PublicKey import RSA"
      ],
      "metadata": {
        "id": "IgB-Z9HNhW7b"
      },
      "execution_count": null,
      "outputs": []
    },
    {
      "cell_type": "code",
      "source": [
        "# 暗号化するサンプルテキストを生成\n",
        "sample={\"name\": \"John Doe\",\"age\": 30,\"email\": \"johndoe@example.com\"}\n",
        "message = json.dumps(sample)"
      ],
      "metadata": {
        "id": "ghN835lgakFz"
      },
      "execution_count": null,
      "outputs": []
    },
    {
      "cell_type": "code",
      "source": [
        "# サンプルテキストをbyte変換\n",
        "data = message.encode('utf-8')\n",
        "\n",
        "# 鍵の生成\n",
        "key = get_random_bytes(32)\n",
        "\n",
        "# AES暗号化\n",
        "cipher = AES.new(key, AES.MODE_EAX)\n",
        "ciphertext, tag = cipher.encrypt_and_digest(data)\n",
        "iv = cipher.nonce"
      ],
      "metadata": {
        "id": "nkjE83psb-8o"
      },
      "execution_count": null,
      "outputs": []
    },
    {
      "cell_type": "code",
      "source": [
        "# base64エンコード（byteからstringへ）\n",
        "keyb64 = b64encode(key).decode('utf-8')\n",
        "tagb64 = b64encode(tag).decode('utf-8')\n",
        "ivb64 = b64encode(iv).decode('utf-8')\n",
        "ciphertextb64 = b64encode(ciphertext).decode('utf-8')"
      ],
      "metadata": {
        "id": "CPukJ67-hjei"
      },
      "execution_count": null,
      "outputs": []
    },
    {
      "cell_type": "code",
      "source": [
        "# base64で文字列化した情報を暗号化文（ciphertext)、復号化に必要な情報（keyinfo)に分割して保管\n",
        "keyinfob64 = {\"key\":keyb64,\n",
        "           \"tag\":tagb64,\n",
        "           \"iv\":ivb64}\n",
        "keyinfob64json = json.dumps(keyinfob64)"
      ],
      "metadata": {
        "id": "5Dr5QAkjhhQo"
      },
      "execution_count": null,
      "outputs": []
    },
    {
      "cell_type": "code",
      "source": [
        "ciphertextb64, keyinfob64json"
      ],
      "metadata": {
        "colab": {
          "base_uri": "https://localhost:8080/"
        },
        "id": "xvNYgsQfh-sL",
        "outputId": "95c00775-6ef3-448b-dffc-143a3c7e170f"
      },
      "execution_count": null,
      "outputs": [
        {
          "output_type": "execute_result",
          "data": {
            "text/plain": [
              "('XRLW5GR6Dt29WP6raTsPZtuIlHxwHqsQSVnvf+O3n07ZcZtBOYnuqrpCdpZCWhze/N5JbE6DEgj4EGN3jWKE',\n",
              " '{\"key\": \"uZcrBgJ6fKc0Bwp+dw522b7YzIPyOYwawecnLV2hucI=\", \"tag\": \"ZsBQsPCOge7GM9H1b5WCrQ==\", \"iv\": \"BqYipfEXUxd8kupIcsn89g==\"}')"
            ]
          },
          "metadata": {},
          "execution_count": 12
        }
      ]
    },
    {
      "cell_type": "code",
      "source": [
        "# RSA暗号化のため公開鍵の読み込み\n",
        "with open(\"/root/.ssh/id_rsa.pub\", \"rb\") as f:\n",
        "    public_key = RSA.import_key(f.read())"
      ],
      "metadata": {
        "id": "tep_3SwdiKER"
      },
      "execution_count": null,
      "outputs": []
    },
    {
      "cell_type": "code",
      "source": [
        "# RSA暗号化のためbyteに変換\n",
        "keyinfojson = keyinfob64json.encode('utf-8')\n",
        "\n",
        "# RSA暗号化\n",
        "rsa = PKCS1_OAEP.new(public_key)\n",
        "cipher_keyinfo = rsa.encrypt(keyinfojson)\n",
        "\n",
        "# byteをstringに変換\n",
        "cipher_keyinfob64 = b64encode(cipher_keyinfo).decode('utf-8')"
      ],
      "metadata": {
        "id": "bSkjyNRRiNt3"
      },
      "execution_count": null,
      "outputs": []
    },
    {
      "cell_type": "code",
      "source": [
        "cipher_keyinfob64"
      ],
      "metadata": {
        "colab": {
          "base_uri": "https://localhost:8080/",
          "height": 88
        },
        "id": "lXxpqq2WkiGX",
        "outputId": "36b55ff9-1f2b-478b-a5f4-9c92b0c87550"
      },
      "execution_count": null,
      "outputs": [
        {
          "output_type": "execute_result",
          "data": {
            "text/plain": [
              "'yjQhfwiDwwSrHg2IcPD1ooNos5uJg5vcZTExhhypd07YQpbErkr/zV6fFDNzeewrHnm29+63Gb+ZiQDQf3vAWSSsdB/fsXEombu/NNFkDd56460W81ORM+B5ddoR8zJVdRUgjTQEsKV3o05xAqs+mEm632qocsytdra0q+I3vEynYE1iu8S5ZBiNBU72K2nk3kbgDP5csWKf4IjzxxJJ1ToAGvYAWqu0QtLH9GG0V9ayTUROEHYw7fVIdB0dpZGKdUzG1GSvpWDSGHWYygASQXG0CcqBoifVXUxWaoJ3i2fC7xkE9u5vbDRE1VxRowwwbz4Le/v0ONgs4QjWr+Hd8IWb6LmLO+XGvjIq8qcqbhDC1LUYPxny89Ctfdd01+Pbj11gvJJdtGHtf6G/AzY1haQ9IvRefK+5C2eNwMxGc3l623IdG5LsKfC+IVsOZb7MgcZxrSPbI9/YtbUFQtuL6AluVt5Sx7qO3Sab0Vms3Z5U1G71x9dDnBvX7CTAtKpc'"
            ],
            "application/vnd.google.colaboratory.intrinsic+json": {
              "type": "string"
            }
          },
          "metadata": {},
          "execution_count": 34
        }
      ]
    },
    {
      "cell_type": "code",
      "source": [
        "#復号化して情報を取得するため暗号化前の情報を削除\n",
        "del message, key, tag, iv"
      ],
      "metadata": {
        "id": "PlVEHVf2pNH9"
      },
      "execution_count": null,
      "outputs": []
    },
    {
      "cell_type": "code",
      "source": [
        "#復号化のため秘密鍵の読み込み\n",
        "with open(\"/root/.ssh/id_rsa\", \"rb\") as f:\n",
        "    private_key = RSA.import_key(f.read())"
      ],
      "metadata": {
        "id": "JEtIvsjXi8lB"
      },
      "execution_count": null,
      "outputs": []
    },
    {
      "cell_type": "code",
      "source": [
        "# keyinfoのbyte変換\n",
        "cipher_keyinfo = b64decode(cipher_keyinfob64.encode('utf-8'))\n",
        "\n",
        "# 鍵情報のRSA復号化\n",
        "decipher_rsa = PKCS1_OAEP.new(private_key)\n",
        "keyinfojson = decipher_rsa.decrypt(cipher_keyinfo)\n",
        "\n",
        "# byteをdict変換\n",
        "keyinfo = json.loads(keyinfojson.decode('utf-8'))"
      ],
      "metadata": {
        "id": "297FHh01jfdX"
      },
      "execution_count": null,
      "outputs": []
    },
    {
      "cell_type": "code",
      "source": [
        "b64decode(keyinfo['key'].encode('utf-8'))"
      ],
      "metadata": {
        "colab": {
          "base_uri": "https://localhost:8080/"
        },
        "id": "cy3o-XdZk5QZ",
        "outputId": "f84ff7fd-f9d5-4d30-c658-e6fafcdb8496"
      },
      "execution_count": null,
      "outputs": [
        {
          "output_type": "execute_result",
          "data": {
            "text/plain": [
              "b\"\\xb9\\x97+\\x06\\x02z|\\xa74\\x07\\n~w\\x0ev\\xd9\\xbe\\xd8\\xcc\\x83\\xf29\\x8c\\x1a\\xc1\\xe7'-]\\xa1\\xb9\\xc2\""
            ]
          },
          "metadata": {},
          "execution_count": 53
        }
      ]
    },
    {
      "cell_type": "code",
      "source": [
        "# 鍵情報からkey,tag, ivを取り出す\n",
        "key = b64decode(keyinfo['key'].encode('utf-8'))\n",
        "tag = b64decode(keyinfo['tag'].encode('utf-8'))\n",
        "iv = b64decode(keyinfo['iv'].encode('utf-8'))\n",
        "\n",
        "# 暗号化文をbase64decodeする\n",
        "ciphertext = b64decode(ciphertextb64.encode('utf-8'))\n",
        "\n",
        "# AES復号化\n",
        "decipher_aes = AES.new(key, AES.MODE_EAX, iv)\n",
        "decrypted_text = decipher_aes.decrypt_and_verify(ciphertext, tag)\n",
        "\n",
        "plaintext = decrypted_text.decode('utf-8')"
      ],
      "metadata": {
        "id": "q1egE6FkjSfG"
      },
      "execution_count": null,
      "outputs": []
    },
    {
      "cell_type": "code",
      "source": [
        "# 結果の表示\n",
        "print(\"暗号化前のテキスト:\", sample)\n",
        "print(\"復号化後のテキスト:\", plaintext)\n",
        "print(message == plaintext)"
      ],
      "metadata": {
        "colab": {
          "base_uri": "https://localhost:8080/"
        },
        "id": "IaDiFoAcnSjC",
        "outputId": "98146da7-feb0-4ec9-8412-cf566d93da11"
      },
      "execution_count": null,
      "outputs": [
        {
          "output_type": "stream",
          "name": "stdout",
          "text": [
            "暗号化前のテキスト: {'name': 'John Doe', 'age': 30, 'email': 'johndoe@example.com'}\n",
            "復号化後のテキスト: {\"name\": \"John Doe\", \"age\": 30, \"email\": \"johndoe@example.com\"}\n",
            "True\n"
          ]
        }
      ]
    }
  ]
}